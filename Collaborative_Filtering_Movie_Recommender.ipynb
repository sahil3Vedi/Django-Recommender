{
  "nbformat": 4,
  "nbformat_minor": 0,
  "metadata": {
    "colab": {
      "name": "Collaborative Filtering Movie Recommender.ipynb",
      "provenance": [],
      "collapsed_sections": [],
      "machine_shape": "hm",
      "include_colab_link": true
    },
    "kernelspec": {
      "name": "python3",
      "display_name": "Python 3"
    }
  },
  "cells": [
    {
      "cell_type": "markdown",
      "metadata": {
        "id": "view-in-github",
        "colab_type": "text"
      },
      "source": [
        "<a href=\"https://colab.research.google.com/github/sahil3Vedi/Django-Recommender/blob/master/Collaborative_Filtering_Movie_Recommender.ipynb\" target=\"_parent\"><img src=\"https://colab.research.google.com/assets/colab-badge.svg\" alt=\"Open In Colab\"/></a>"
      ]
    },
    {
      "cell_type": "code",
      "metadata": {
        "id": "HctGpg-lZM4h",
        "colab_type": "code",
        "colab": {}
      },
      "source": [
        "# MOVIE RECOMMENDER USING COLLABORATIVE FILTERING"
      ],
      "execution_count": 0,
      "outputs": []
    },
    {
      "cell_type": "code",
      "metadata": {
        "id": "Zk41OOKhZgSo",
        "colab_type": "code",
        "colab": {
          "base_uri": "https://localhost:8080/",
          "height": 122
        },
        "outputId": "7453beb3-337f-4a07-e129-4fdf4069634e"
      },
      "source": [
        "from google.colab import drive\n",
        "import pandas as pd\n",
        "import os\n",
        "drive.mount('/content/drive')\n",
        "from IPython.display import HTML, display\n",
        "from numpy.random import randint"
      ],
      "execution_count": 3,
      "outputs": [
        {
          "output_type": "stream",
          "text": [
            "Go to this URL in a browser: https://accounts.google.com/o/oauth2/auth?client_id=947318989803-6bn6qk8qdgf4n4g3pfee6491hc0brc4i.apps.googleusercontent.com&redirect_uri=urn%3Aietf%3Awg%3Aoauth%3A2.0%3Aoob&scope=email%20https%3A%2F%2Fwww.googleapis.com%2Fauth%2Fdocs.test%20https%3A%2F%2Fwww.googleapis.com%2Fauth%2Fdrive%20https%3A%2F%2Fwww.googleapis.com%2Fauth%2Fdrive.photos.readonly%20https%3A%2F%2Fwww.googleapis.com%2Fauth%2Fpeopleapi.readonly&response_type=code\n",
            "\n",
            "Enter your authorization code:\n",
            "··········\n",
            "Mounted at /content/drive\n"
          ],
          "name": "stdout"
        }
      ]
    },
    {
      "cell_type": "code",
      "metadata": {
        "id": "cZ88_rBzvFdi",
        "colab_type": "code",
        "colab": {}
      },
      "source": [
        "def progress(value, max):\n",
        "    return HTML(\"\"\"\n",
        "        <progress\n",
        "            value='{value}'\n",
        "            max='{max}',\n",
        "            style='width: 100%'\n",
        "        >\n",
        "            {value}\n",
        "        </progress>\n",
        "    \"\"\".format(value=value, max=max))"
      ],
      "execution_count": 0,
      "outputs": []
    },
    {
      "cell_type": "code",
      "metadata": {
        "id": "--_o-B41bDmQ",
        "colab_type": "code",
        "colab": {}
      },
      "source": [
        "DATA_DIR = 'drive/My Drive/movielens'\n",
        "moviescsv = \"movie.csv\"\n",
        "creditscsv = \"rating.csv\"\n",
        "MOV_PATH = os.path.join(DATA_DIR, moviescsv)\n",
        "REV_PATH = os.path.join(DATA_DIR,creditscsv)\n",
        "movdata = pd.read_csv(MOV_PATH)\n",
        "revdata = pd.read_csv(REV_PATH)"
      ],
      "execution_count": 0,
      "outputs": []
    },
    {
      "cell_type": "code",
      "metadata": {
        "id": "Na-OyZI0eYT9",
        "colab_type": "code",
        "colab": {}
      },
      "source": [
        "list_of_movids = list(movdata[\"movieId\"])\n",
        "list_of_userIds = []\n",
        "#Creating list of unique userIds:\n",
        "current_user_Id = 0\n",
        "for each_entry in revdata[\"userId\"]:\n",
        "  present_entry = each_entry\n",
        "  if present_entry != current_user_Id:\n",
        "    list_of_userIds.append(present_entry)\n",
        "    current_user_Id = present_entry\n",
        "user_row = list(revdata[\"userId\"])"
      ],
      "execution_count": 0,
      "outputs": []
    },
    {
      "cell_type": "code",
      "metadata": {
        "id": "_GNRxJE9f-tx",
        "colab_type": "code",
        "colab": {}
      },
      "source": [
        "def normaliseArray(anyArray):\n",
        "  min_list = min(anyArray)\n",
        "  max_list = max(anyArray)\n",
        "  temp = []\n",
        "  for eachelem in anyArray:\n",
        "    tempelem = round(-1 + (((eachelem - min_list)*2)/(max_list - min_list)),2)\n",
        "    temp.append(tempelem)\n",
        "  return temp\n",
        "\n",
        "dataframeColumns = []\n",
        "for each_Id in list_of_movids:\n",
        "  dataframeColumns.append(str(each_Id))\n",
        "\n",
        "# export Pivot Matrix for users startIndex to endIndex-1 inclusive\n",
        "def exportPivotMatrix(startIndex,endIndex):\n",
        "  \n",
        "  dataframeIndices = []\n",
        "  for every in range(startIndex, endIndex):\n",
        "    dataframeIndices.append(\"User \" + str(every))\n",
        "  pivotDf = pd.DataFrame(0,index=dataframeIndices,columns=dataframeColumns)\n",
        "  print(\"Creating Cosine Matrix for users \" + str(startIndex) + \" to \" + str(endIndex-1) + \" inclusive..\")\n",
        "  print(\"Total Elements: \" + str(endIndex-startIndex) + \" x 27278 = \" + str((endIndex-startIndex)*27278) + \" elements approx..\")\n",
        "  #get first index of the first user\n",
        "  out = display(progress(0, startIndex-endIndex), display_id=True)\n",
        "  \n",
        "  userId = startIndex\n",
        "  dfCounter = 0\n",
        "  while userId<endIndex:\n",
        "    \n",
        "    #obtaining user rated list\n",
        "    userRatedList = []\n",
        "    userRatings = []\n",
        "    currentIndex = user_row.index(userId)\n",
        "    nextIndex = user_row.index(userId+1)\n",
        "    for revCounter in range(currentIndex,nextIndex):\n",
        "      userRatedList.append(str(revdata[\"movieId\"][revCounter]))\n",
        "      userRatings.append(float(revdata[\"rating\"][revCounter]))\n",
        "    userRating = normaliseArray(userRatings)\n",
        "    \n",
        "    #updating dataframe\n",
        "    ratingCounter = 0\n",
        "    rowref = \"User \" + str(userId)\n",
        "    for eachId in userRatedList:\n",
        "      movIndex = list_of_movids.index(int(eachId))\n",
        "      pivotDf.iat[dfCounter,movIndex] = userRating[ratingCounter]\n",
        "      ratingCounter += 1\n",
        "    out.update(progress(userId+1-startIndex,endIndex-startIndex))\n",
        "    userId+=1\n",
        "    dfCounter+=1\n",
        "  return pivotDf\n",
        "    \n",
        "    \n",
        "    \n",
        "      "
      ],
      "execution_count": 0,
      "outputs": []
    },
    {
      "cell_type": "code",
      "metadata": {
        "colab_type": "code",
        "id": "jP0iIkJR1WwY",
        "colab": {
          "base_uri": "https://localhost:8080/",
          "height": 1000
        },
        "outputId": "0a111e8b-75bf-46c8-ac6e-33890e999aaf"
      },
      "source": [
        "pivot = exportPivotMatrix(1000,2000)\n",
        "print(pivot)"
      ],
      "execution_count": 57,
      "outputs": [
        {
          "output_type": "stream",
          "text": [
            "Creating Cosine Matrix for users 1000 to 1999 inclusive..\n",
            "Total Elements: 1000 x 27278 = 27278000 elements approx..\n"
          ],
          "name": "stdout"
        },
        {
          "output_type": "display_data",
          "data": {
            "text/html": [
              "\n",
              "        <progress\n",
              "            value='1000'\n",
              "            max='1000',\n",
              "            style='width: 100%'\n",
              "        >\n",
              "            1000\n",
              "        </progress>\n",
              "    "
            ],
            "text/plain": [
              "<IPython.core.display.HTML object>"
            ]
          },
          "metadata": {
            "tags": []
          }
        },
        {
          "output_type": "stream",
          "text": [
            "           1  2  3  4  5  6  ...  131252  131254  131256  131258  131260  131262\n",
            "User 1000  0  0  0  0  0  0  ...       0       0       0       0       0       0\n",
            "User 1001  0  0  0  0  0  0  ...       0       0       0       0       0       0\n",
            "User 1002  0  0  0  0  0  0  ...       0       0       0       0       0       0\n",
            "User 1003  0  0  0  0  0  0  ...       0       0       0       0       0       0\n",
            "User 1004  0  0  0  0  0  0  ...       0       0       0       0       0       0\n",
            "User 1005  0  0  0  0  0  0  ...       0       0       0       0       0       0\n",
            "User 1006  0  0  0  0  0  0  ...       0       0       0       0       0       0\n",
            "User 1007  0  0  0  0  0  0  ...       0       0       0       0       0       0\n",
            "User 1008  1  0  0  0  0  0  ...       0       0       0       0       0       0\n",
            "User 1009  0  0  0  0  0  0  ...       0       0       0       0       0       0\n",
            "User 1010  0  0  0  0  0  0  ...       0       0       0       0       0       0\n",
            "User 1011  0  0  0  0  0  0  ...       0       0       0       0       0       0\n",
            "User 1012  0  0  0  0  0  0  ...       0       0       0       0       0       0\n",
            "User 1013  0  0  0  0  0  0  ...       0       0       0       0       0       0\n",
            "User 1014  0  0  0  0  0  0  ...       0       0       0       0       0       0\n",
            "User 1015  0  0  0  0  0  0  ...       0       0       0       0       0       0\n",
            "User 1016  0  0  0  0  0  0  ...       0       0       0       0       0       0\n",
            "User 1017  0  0  0  0  0  0  ...       0       0       0       0       0       0\n",
            "User 1018  0  0  0  0  0  0  ...       0       0       0       0       0       0\n",
            "User 1019  0  0  1  0  0  0  ...       0       0       0       0       0       0\n",
            "User 1020  0  0  0  0  0  0  ...       0       0       0       0       0       0\n",
            "User 1021  0  0  0  0  0  0  ...       0       0       0       0       0       0\n",
            "User 1022  0  0  0  0  0  0  ...       0       0       0       0       0       0\n",
            "User 1023  0  0  0  0  0  0  ...       0       0       0       0       0       0\n",
            "User 1024  0  0  0  0  0  0  ...       0       0       0       0       0       0\n",
            "User 1025  0  0  0  0  0  0  ...       0       0       0       0       0       0\n",
            "User 1026  0  0  0  0  0  0  ...       0       0       0       0       0       0\n",
            "User 1027  0  0  0  0  0  0  ...       0       0       0       0       0       0\n",
            "User 1028  0  0  0  0  0  0  ...       0       0       0       0       0       0\n",
            "User 1029  0  0  0  0  0  0  ...       0       0       0       0       0       0\n",
            "...       .. .. .. .. .. ..  ...     ...     ...     ...     ...     ...     ...\n",
            "User 1970  0  0  0  0  0  1  ...       0       0       0       0       0       0\n",
            "User 1971  0  0  0  0  0  0  ...       0       0       0       0       0       0\n",
            "User 1972  0  0  0  0  0  0  ...       0       0       0       0       0       0\n",
            "User 1973  0  0  0  0  0  0  ...       0       0       0       0       0       0\n",
            "User 1974  0  0  0  0  0  1  ...       0       0       0       0       0       0\n",
            "User 1975  0  0  0  0  0  0  ...       0       0       0       0       0       0\n",
            "User 1976  0  0  0  0  0  0  ...       0       0       0       0       0       0\n",
            "User 1977  0  0  0  0  0  0  ...       0       0       0       0       0       0\n",
            "User 1978  0  0  0  0  0  0  ...       0       0       0       0       0       0\n",
            "User 1979  0  0  0  0  0  0  ...       0       0       0       0       0       0\n",
            "User 1980  0  0  0  0  0  0  ...       0       0       0       0       0       0\n",
            "User 1981  0  0  0  0  0  0  ...       0       0       0       0       0       0\n",
            "User 1982  1  0  0  0  0  0  ...       0       0       0       0       0       0\n",
            "User 1983  0  0  0  0  0  0  ...       0       0       0       0       0       0\n",
            "User 1984  0  0  0  0  0  0  ...       0       0       0       0       0       0\n",
            "User 1985  0  0  0  0  0  0  ...       0       0       0       0       0       0\n",
            "User 1986  0  0  0  0  0  0  ...       0       0       0       0       0       0\n",
            "User 1987  0  0  0  0  0  0  ...       0       0       0       0       0       0\n",
            "User 1988  0  0  0  0  0  0  ...       0       0       0       0       0       0\n",
            "User 1989  0  0  0  0  0  0  ...       0       0       0       0       0       0\n",
            "User 1990  0  0  0  0  0  0  ...       0       0       0       0       0       0\n",
            "User 1991  0  0  0  0  0  0  ...       0       0       0       0       0       0\n",
            "User 1992  0  0  0  0  0  0  ...       0       0       0       0       0       0\n",
            "User 1993  0  0  0  0  0  1  ...       0       0       0       0       0       0\n",
            "User 1994  0  0  0  0  0  0  ...       0       0       0       0       0       0\n",
            "User 1995  0  0  0  0  0  0  ...       0       0       0       0       0       0\n",
            "User 1996  0  0  0  0  0  0  ...       0       0       0       0       0       0\n",
            "User 1997  0  0  0  0  0  0  ...       0       0       0       0       0       0\n",
            "User 1998  0  0  0  0  0  0  ...       0       0       0       0       0       0\n",
            "User 1999  0  0  0  0  0  0  ...       0       0       0       0       0       0\n",
            "\n",
            "[1000 rows x 27278 columns]\n"
          ],
          "name": "stdout"
        }
      ]
    }
  ]
}