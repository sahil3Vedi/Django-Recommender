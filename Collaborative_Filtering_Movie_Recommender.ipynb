{
  "nbformat": 4,
  "nbformat_minor": 0,
  "metadata": {
    "colab": {
      "name": "Collaborative Filtering Movie Recommender.ipynb",
      "provenance": [],
      "collapsed_sections": [],
      "include_colab_link": true
    },
    "kernelspec": {
      "name": "python3",
      "display_name": "Python 3"
    }
  },
  "cells": [
    {
      "cell_type": "markdown",
      "metadata": {
        "id": "view-in-github",
        "colab_type": "text"
      },
      "source": [
        "<a href=\"https://colab.research.google.com/github/sahil3Vedi/Django-Recommender/blob/master/Collaborative_Filtering_Movie_Recommender.ipynb\" target=\"_parent\"><img src=\"https://colab.research.google.com/assets/colab-badge.svg\" alt=\"Open In Colab\"/></a>"
      ]
    },
    {
      "cell_type": "code",
      "metadata": {
        "id": "HctGpg-lZM4h",
        "colab_type": "code",
        "colab": {}
      },
      "source": [
        "# MOVIE RECOMMENDER USING COLLABORATIVE FILTERING"
      ],
      "execution_count": 0,
      "outputs": []
    },
    {
      "cell_type": "code",
      "metadata": {
        "id": "Zk41OOKhZgSo",
        "colab_type": "code",
        "colab": {}
      },
      "source": [
        "from google.colab import drive\n",
        "import pandas as pd\n",
        "import os\n",
        "drive.mount('/content/drive')\n",
        "from IPython.display import HTML, display\n",
        "from numpy.random import randint"
      ],
      "execution_count": 0,
      "outputs": []
    },
    {
      "cell_type": "code",
      "metadata": {
        "id": "cZ88_rBzvFdi",
        "colab_type": "code",
        "colab": {}
      },
      "source": [
        "def progress(value, max):\n",
        "    return HTML(\"\"\"\n",
        "        <progress\n",
        "            value='{value}'\n",
        "            max='{max}',\n",
        "            style='width: 100%'\n",
        "        >\n",
        "            {value}\n",
        "        </progress>\n",
        "    \"\"\".format(value=value, max=max))"
      ],
      "execution_count": 0,
      "outputs": []
    },
    {
      "cell_type": "code",
      "metadata": {
        "id": "--_o-B41bDmQ",
        "colab_type": "code",
        "colab": {}
      },
      "source": [
        "DATA_DIR = 'drive/My Drive/movielens'\n",
        "moviescsv = \"movie.csv\"\n",
        "creditscsv = \"rating.csv\"\n",
        "MOV_PATH = os.path.join(DATA_DIR, moviescsv)\n",
        "REV_PATH = os.path.join(DATA_DIR,creditscsv)\n",
        "movdata = pd.read_csv(MOV_PATH)\n",
        "revdata = pd.read_csv(REV_PATH)"
      ],
      "execution_count": 0,
      "outputs": []
    },
    {
      "cell_type": "code",
      "metadata": {
        "id": "Na-OyZI0eYT9",
        "colab_type": "code",
        "colab": {}
      },
      "source": [
        "list_of_movids = list(movdata[\"movieId\"])\n",
        "list_of_userIds = []\n",
        "#Creating list of unique userIds:\n",
        "current_user_Id = 0\n",
        "for each_entry in revdata[\"userId\"]:\n",
        "  present_entry = each_entry\n",
        "  if present_entry != current_user_Id:\n",
        "    list_of_userIds.append(present_entry)\n",
        "    current_user_Id = present_entry\n",
        "user_row = list(revdata[\"userId\"])"
      ],
      "execution_count": 0,
      "outputs": []
    },
    {
      "cell_type": "code",
      "metadata": {
        "id": "_GNRxJE9f-tx",
        "colab_type": "code",
        "colab": {}
      },
      "source": [
        "def normaliseArray(anyArray):\n",
        "  min_list = min(anyArray)\n",
        "  max_list = max(anyArray)\n",
        "  temp = []\n",
        "  for eachelem in anyArray:\n",
        "    tempelem = round(-1 + (eachelem - min_list)*2/(max_list - min_list),2)\n",
        "    temp.append(tempelem)\n",
        "  return temp\n",
        "\n",
        "dataframeColumns = ['userId']\n",
        "for each_Id in list_of_movids:\n",
        "  dataframeColumns.append(str(each_Id))\n",
        "\n",
        "# export Pivot Matrix for users startIndex to endIndex-1 inclusive\n",
        "def exportPivotMatrix(startIndex,endIndex):\n",
        "  pivotMatrix = []\n",
        "  dataframeIndices = []\n",
        "  for every in range(startIndex, endIndex):\n",
        "    dataframeIndices.append(str(every))\n",
        "  pivotDf = pd.DataFrame(index=dataframeIndices,columns=dataframeColumns)\n",
        "  print(\"Creating Cosine Matrix for users \" + str(startIndex) + \" to \" + str(endIndex-1) + \" inclusive..\")\n",
        "  print(\"Total Elements: \" + str(endIndex-startIndex) + \" x 27278 = \" + str((endIndex-startIndex)*27278) + \" elements approx..\")\n",
        "  #get first index of the first user\n",
        "  out = display(progress(0, startIndex-endIndex), display_id=True)\n",
        "  userId = startIndex\n",
        "  dfCounter = 0\n",
        "  while userId<endIndex:\n",
        "    #obtaining user rated list\n",
        "    userRatedList = []\n",
        "    userRatings = []\n",
        "    currentIndex = user_row.index(userId)\n",
        "    nextIndex = user_row.index(userId+1)\n",
        "    for revCounter in range(currentIndex,nextIndex):\n",
        "      userRatedList.append(revdata[\"movieId\"][revCounter])\n",
        "      userRatings.append(revdata[\"rating\"][revCounter])\n",
        "    userRatings = normaliseArray(userRatings)\n",
        "    #obtaining user rating list\n",
        "    userRatingList = []\n",
        "    ratingCounter = 0\n",
        "    for movieIndex in list_of_movids:\n",
        "      if movieIndex in userRatedList:\n",
        "        userRatingList.append(userRatings[ratingCounter])\n",
        "        ratingCounter += 1\n",
        "      else:\n",
        "        userRatingList.append(0)\n",
        "    pivotMatrix.append(userRatingList)\n",
        "    pivotDf.iloc[dfCounter] = [userId] + userRatingList\n",
        "    out.update(progress(userId+1-startIndex,endIndex-startIndex))\n",
        "    userId+=1\n",
        "    dfCounter+=1\n",
        "  return pivotDf\n",
        "    \n",
        "    \n",
        "    \n",
        "      "
      ],
      "execution_count": 0,
      "outputs": []
    },
    {
      "cell_type": "code",
      "metadata": {
        "id": "tvoU1hrWt1PT",
        "colab_type": "code",
        "colab": {
          "base_uri": "https://localhost:8080/",
          "height": 289
        },
        "outputId": "4552dece-f0bd-49c3-ca80-d6fbedd869db"
      },
      "source": [
        "pivot = exportPivotMatrix(1,11)\n",
        "print(pivot)"
      ],
      "execution_count": 52,
      "outputs": [
        {
          "output_type": "stream",
          "text": [
            "Creating Cosine Matrix for users 1 to 10 inclusive..\n",
            "Total Elements: 10 x 27278 = 272780 elements approx..\n"
          ],
          "name": "stdout"
        },
        {
          "output_type": "display_data",
          "data": {
            "text/html": [
              "\n",
              "        <progress\n",
              "            value='10'\n",
              "            max='10',\n",
              "            style='width: 100%'\n",
              "        >\n",
              "            10\n",
              "        </progress>\n",
              "    "
            ],
            "text/plain": [
              "<IPython.core.display.HTML object>"
            ]
          },
          "metadata": {
            "tags": []
          }
        },
        {
          "output_type": "stream",
          "text": [
            "   userId    1     2     3  4  5  ... 131252 131254 131256 131258 131260 131262\n",
            "1       1    0  -0.5     0  0  0  ...      0      0      0      0      0      0\n",
            "2       2    0     0  0.33  0  0  ...      0      0      0      0      0      0\n",
            "3       3  0.5     0     0  0  0  ...      0      0      0      0      0      0\n",
            "4       4    0     0     0  0  0  ...      0      0      0      0      0      0\n",
            "5       5    0 -0.33     0  0  0  ...      0      0      0      0      0      0\n",
            "6       6    1     0     0  0  0  ...      0      0      0      0      0      0\n",
            "7       7    0     0     0  0  0  ...      0      0      0      0      0      0\n",
            "8       8  0.5     0     1  0  0  ...      0      0      0      0      0      0\n",
            "9       9    0     0     0  0  0  ...      0      0      0      0      0      0\n",
            "10     10    0     0     0  0  0  ...      0      0      0      0      0      0\n",
            "\n",
            "[10 rows x 27279 columns]\n"
          ],
          "name": "stdout"
        }
      ]
    }
  ]
}